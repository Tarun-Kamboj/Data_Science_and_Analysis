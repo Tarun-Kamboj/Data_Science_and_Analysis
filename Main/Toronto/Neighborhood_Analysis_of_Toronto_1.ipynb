{
 "cells": [
  {
   "cell_type": "markdown",
   "metadata": {},
   "source": [
    "# Neighborhood Analysis of Toronto - 1<a name=\"top\"></a>\n",
    "\n",
    "***Tarun Kamboj***\n",
    "\n",
    "---"
   ]
  },
  {
   "cell_type": "markdown",
   "metadata": {},
   "source": [
    "## Table of contents\n",
    "* [Introduction](#introduction)\n",
    "* [Data](#data)\n",
    "  * [Scraping The Data](#A)\n",
    "  * [Getting the Geographical Coordinates](#B)"
   ]
  },
  {
   "cell_type": "markdown",
   "metadata": {},
   "source": [
    "<a name=\"introduction\"></a>\n",
    "\n",
    "## Introduction"
   ]
  },
  {
   "cell_type": "markdown",
   "metadata": {},
   "source": [
    "Suppose you want to shift somewhere else in the city beacause you got a new job at the other end of the city but you like your current neighbourhood beacuse of the facilities avialble nearby. What'll you do then? To solve this problem I've used the concept of clustering, and clustered the neighbourhoods based on their popular nearby venues as shown in the images below. Now you can choose where you should shift your resident to so that you have to travel minimum for work while getting the same facilities as your previous neighbourhood."
   ]
  },
  {
   "cell_type": "markdown",
   "metadata": {},
   "source": [
    "<a name=\"data\"></a>\n",
    "\n",
    "## Data "
   ]
  },
  {
   "cell_type": "markdown",
   "metadata": {},
   "source": [
    "In order to obtain the data that is in the table of postal codes, neighborhoods and boroughs of Toronto, we'll scrap the `HTML` of the wikipedia page https://en.wikipedia.org/wiki/List_of_postal_codes_of_Canada:_M .\n",
    "Next, to get the geographical coordinates of toronto we'll use the dataset `Geospatial_Coordinates.csv` Which can be downloaded from [here](http://cocl.us/Geospatial_data).\n",
    "\n",
    "Before we get the data and start exploring it, let's import all the dependencies."
   ]
  },
  {
   "cell_type": "markdown",
   "metadata": {},
   "source": [
    "<a id=\"A\"></a>"
   ]
  },
  {
   "cell_type": "code",
   "execution_count": 1,
   "metadata": {},
   "outputs": [],
   "source": [
    "import numpy as np \n",
    "import pandas as pd\n",
    "import folium # for generating maps\n",
    "import requests # for requesting html\n",
    "from bs4 import BeautifulSoup # for scraping"
   ]
  },
  {
   "cell_type": "markdown",
   "metadata": {},
   "source": [
    "### Scrapping The Data"
   ]
  },
  {
   "cell_type": "markdown",
   "metadata": {},
   "source": [
    "1. Get the HTML"
   ]
  },
  {
   "cell_type": "code",
   "execution_count": 2,
   "metadata": {},
   "outputs": [],
   "source": [
    "url = \"https://en.wikipedia.org/wiki/List_of_postal_codes_of_Canada:_M\""
   ]
  },
  {
   "cell_type": "code",
   "execution_count": 3,
   "metadata": {},
   "outputs": [],
   "source": [
    "r = requests.get(url)\n",
    "html_content = r.content"
   ]
  },
  {
   "cell_type": "markdown",
   "metadata": {},
   "source": [
    "2. Parse the HTML"
   ]
  },
  {
   "cell_type": "code",
   "execution_count": 4,
   "metadata": {},
   "outputs": [],
   "source": [
    "soup = BeautifulSoup(html_content, 'html.parser')\n",
    "table = soup.table"
   ]
  },
  {
   "cell_type": "markdown",
   "metadata": {},
   "source": [
    "3. Convert into Pandas Dataframe"
   ]
  },
  {
   "cell_type": "code",
   "execution_count": 5,
   "metadata": {},
   "outputs": [
    {
     "data": {
      "text/html": [
       "<div>\n",
       "<style scoped>\n",
       "    .dataframe tbody tr th:only-of-type {\n",
       "        vertical-align: middle;\n",
       "    }\n",
       "\n",
       "    .dataframe tbody tr th {\n",
       "        vertical-align: top;\n",
       "    }\n",
       "\n",
       "    .dataframe thead th {\n",
       "        text-align: right;\n",
       "    }\n",
       "</style>\n",
       "<table border=\"1\" class=\"dataframe\">\n",
       "  <thead>\n",
       "    <tr style=\"text-align: right;\">\n",
       "      <th></th>\n",
       "      <th>Postal Code</th>\n",
       "      <th>Borough</th>\n",
       "      <th>Neighbourhood</th>\n",
       "    </tr>\n",
       "  </thead>\n",
       "  <tbody>\n",
       "    <tr>\n",
       "      <th>0</th>\n",
       "      <td>M1A</td>\n",
       "      <td>Not assigned</td>\n",
       "      <td>Not assigned</td>\n",
       "    </tr>\n",
       "    <tr>\n",
       "      <th>1</th>\n",
       "      <td>M2A</td>\n",
       "      <td>Not assigned</td>\n",
       "      <td>Not assigned</td>\n",
       "    </tr>\n",
       "    <tr>\n",
       "      <th>2</th>\n",
       "      <td>M3A</td>\n",
       "      <td>North York</td>\n",
       "      <td>Parkwoods</td>\n",
       "    </tr>\n",
       "    <tr>\n",
       "      <th>3</th>\n",
       "      <td>M4A</td>\n",
       "      <td>North York</td>\n",
       "      <td>Victoria Village</td>\n",
       "    </tr>\n",
       "    <tr>\n",
       "      <th>4</th>\n",
       "      <td>M5A</td>\n",
       "      <td>Downtown Toronto</td>\n",
       "      <td>Regent Park, Harbourfront</td>\n",
       "    </tr>\n",
       "  </tbody>\n",
       "</table>\n",
       "</div>"
      ],
      "text/plain": [
       "  Postal Code           Borough              Neighbourhood\n",
       "0         M1A      Not assigned               Not assigned\n",
       "1         M2A      Not assigned               Not assigned\n",
       "2         M3A        North York                  Parkwoods\n",
       "3         M4A        North York           Victoria Village\n",
       "4         M5A  Downtown Toronto  Regent Park, Harbourfront"
      ]
     },
     "execution_count": 5,
     "metadata": {},
     "output_type": "execute_result"
    }
   ],
   "source": [
    "data_table = pd.read_html(str(table))[0]\n",
    "data_table.head()"
   ]
  },
  {
   "cell_type": "markdown",
   "metadata": {},
   "source": [
    "4. Drop the unneccessary rows"
   ]
  },
  {
   "cell_type": "code",
   "execution_count": 6,
   "metadata": {},
   "outputs": [
    {
     "data": {
      "text/html": [
       "<div>\n",
       "<style scoped>\n",
       "    .dataframe tbody tr th:only-of-type {\n",
       "        vertical-align: middle;\n",
       "    }\n",
       "\n",
       "    .dataframe tbody tr th {\n",
       "        vertical-align: top;\n",
       "    }\n",
       "\n",
       "    .dataframe thead th {\n",
       "        text-align: right;\n",
       "    }\n",
       "</style>\n",
       "<table border=\"1\" class=\"dataframe\">\n",
       "  <thead>\n",
       "    <tr style=\"text-align: right;\">\n",
       "      <th></th>\n",
       "      <th>Postal Code</th>\n",
       "      <th>Borough</th>\n",
       "      <th>Neighbourhood</th>\n",
       "    </tr>\n",
       "  </thead>\n",
       "  <tbody>\n",
       "    <tr>\n",
       "      <th>2</th>\n",
       "      <td>M3A</td>\n",
       "      <td>North York</td>\n",
       "      <td>Parkwoods</td>\n",
       "    </tr>\n",
       "    <tr>\n",
       "      <th>3</th>\n",
       "      <td>M4A</td>\n",
       "      <td>North York</td>\n",
       "      <td>Victoria Village</td>\n",
       "    </tr>\n",
       "    <tr>\n",
       "      <th>4</th>\n",
       "      <td>M5A</td>\n",
       "      <td>Downtown Toronto</td>\n",
       "      <td>Regent Park, Harbourfront</td>\n",
       "    </tr>\n",
       "    <tr>\n",
       "      <th>5</th>\n",
       "      <td>M6A</td>\n",
       "      <td>North York</td>\n",
       "      <td>Lawrence Manor, Lawrence Heights</td>\n",
       "    </tr>\n",
       "    <tr>\n",
       "      <th>6</th>\n",
       "      <td>M7A</td>\n",
       "      <td>Downtown Toronto</td>\n",
       "      <td>Queen's Park, Ontario Provincial Government</td>\n",
       "    </tr>\n",
       "  </tbody>\n",
       "</table>\n",
       "</div>"
      ],
      "text/plain": [
       "  Postal Code           Borough                                Neighbourhood\n",
       "2         M3A        North York                                    Parkwoods\n",
       "3         M4A        North York                             Victoria Village\n",
       "4         M5A  Downtown Toronto                    Regent Park, Harbourfront\n",
       "5         M6A        North York             Lawrence Manor, Lawrence Heights\n",
       "6         M7A  Downtown Toronto  Queen's Park, Ontario Provincial Government"
      ]
     },
     "execution_count": 6,
     "metadata": {},
     "output_type": "execute_result"
    }
   ],
   "source": [
    "df = data_table[data_table['Borough'] != 'Not assigned']\n",
    "df.head()"
   ]
  },
  {
   "cell_type": "markdown",
   "metadata": {},
   "source": [
    "5. Fix the indexes"
   ]
  },
  {
   "cell_type": "code",
   "execution_count": 7,
   "metadata": {},
   "outputs": [
    {
     "name": "stdout",
     "output_type": "stream",
     "text": [
      "Dimension of Dataframe is  (103, 3)\n"
     ]
    },
    {
     "data": {
      "text/html": [
       "<div>\n",
       "<style scoped>\n",
       "    .dataframe tbody tr th:only-of-type {\n",
       "        vertical-align: middle;\n",
       "    }\n",
       "\n",
       "    .dataframe tbody tr th {\n",
       "        vertical-align: top;\n",
       "    }\n",
       "\n",
       "    .dataframe thead th {\n",
       "        text-align: right;\n",
       "    }\n",
       "</style>\n",
       "<table border=\"1\" class=\"dataframe\">\n",
       "  <thead>\n",
       "    <tr style=\"text-align: right;\">\n",
       "      <th></th>\n",
       "      <th>Postal Code</th>\n",
       "      <th>Borough</th>\n",
       "      <th>Neighbourhood</th>\n",
       "    </tr>\n",
       "  </thead>\n",
       "  <tbody>\n",
       "    <tr>\n",
       "      <th>0</th>\n",
       "      <td>M3A</td>\n",
       "      <td>North York</td>\n",
       "      <td>Parkwoods</td>\n",
       "    </tr>\n",
       "    <tr>\n",
       "      <th>1</th>\n",
       "      <td>M4A</td>\n",
       "      <td>North York</td>\n",
       "      <td>Victoria Village</td>\n",
       "    </tr>\n",
       "    <tr>\n",
       "      <th>2</th>\n",
       "      <td>M5A</td>\n",
       "      <td>Downtown Toronto</td>\n",
       "      <td>Regent Park, Harbourfront</td>\n",
       "    </tr>\n",
       "    <tr>\n",
       "      <th>3</th>\n",
       "      <td>M6A</td>\n",
       "      <td>North York</td>\n",
       "      <td>Lawrence Manor, Lawrence Heights</td>\n",
       "    </tr>\n",
       "    <tr>\n",
       "      <th>4</th>\n",
       "      <td>M7A</td>\n",
       "      <td>Downtown Toronto</td>\n",
       "      <td>Queen's Park, Ontario Provincial Government</td>\n",
       "    </tr>\n",
       "  </tbody>\n",
       "</table>\n",
       "</div>"
      ],
      "text/plain": [
       "  Postal Code           Borough                                Neighbourhood\n",
       "0         M3A        North York                                    Parkwoods\n",
       "1         M4A        North York                             Victoria Village\n",
       "2         M5A  Downtown Toronto                    Regent Park, Harbourfront\n",
       "3         M6A        North York             Lawrence Manor, Lawrence Heights\n",
       "4         M7A  Downtown Toronto  Queen's Park, Ontario Provincial Government"
      ]
     },
     "execution_count": 7,
     "metadata": {},
     "output_type": "execute_result"
    }
   ],
   "source": [
    "df.reset_index(drop=True,inplace=True)\n",
    "print('Dimension of Dataframe is ',df.shape)\n",
    "df.head()"
   ]
  },
  {
   "cell_type": "markdown",
   "metadata": {},
   "source": [
    "<a id=\"B\"></a>"
   ]
  },
  {
   "cell_type": "markdown",
   "metadata": {},
   "source": [
    "### Getting the Geographical Coordinates"
   ]
  },
  {
   "cell_type": "markdown",
   "metadata": {},
   "source": [
    "Since the `geocoder` was not working properly, after trying a lot i decided to use the `Geospatial_Coordinates.csv` file. Which you can download from [here](http://cocl.us/Geospatial_data)."
   ]
  },
  {
   "cell_type": "code",
   "execution_count": 8,
   "metadata": {},
   "outputs": [],
   "source": [
    "df_cor = pd.read_csv('Geospatial_Coordinates.csv')"
   ]
  },
  {
   "cell_type": "markdown",
   "metadata": {},
   "source": [
    "Sorting both dataframes w.r.t.`Postal Code` so that the coordinates can match."
   ]
  },
  {
   "cell_type": "code",
   "execution_count": 9,
   "metadata": {},
   "outputs": [
    {
     "name": "stderr",
     "output_type": "stream",
     "text": [
      "C:\\Users\\kambo\\Anaconda3\\lib\\site-packages\\ipykernel_launcher.py:2: SettingWithCopyWarning: \n",
      "A value is trying to be set on a copy of a slice from a DataFrame\n",
      "\n",
      "See the caveats in the documentation: https://pandas.pydata.org/pandas-docs/stable/user_guide/indexing.html#returning-a-view-versus-a-copy\n",
      "  \n"
     ]
    }
   ],
   "source": [
    "df_cor.sort_values('Postal Code', ascending=True, inplace=True)\n",
    "df.sort_values('Postal Code', ascending=True, inplace=True)"
   ]
  },
  {
   "cell_type": "markdown",
   "metadata": {},
   "source": [
    "Adding the Coordinates to the main DataFrame."
   ]
  },
  {
   "cell_type": "code",
   "execution_count": 10,
   "metadata": {},
   "outputs": [
    {
     "data": {
      "text/html": [
       "<div>\n",
       "<style scoped>\n",
       "    .dataframe tbody tr th:only-of-type {\n",
       "        vertical-align: middle;\n",
       "    }\n",
       "\n",
       "    .dataframe tbody tr th {\n",
       "        vertical-align: top;\n",
       "    }\n",
       "\n",
       "    .dataframe thead th {\n",
       "        text-align: right;\n",
       "    }\n",
       "</style>\n",
       "<table border=\"1\" class=\"dataframe\">\n",
       "  <thead>\n",
       "    <tr style=\"text-align: right;\">\n",
       "      <th></th>\n",
       "      <th>Postal Code</th>\n",
       "      <th>Borough</th>\n",
       "      <th>Neighbourhood</th>\n",
       "      <th>Latitude</th>\n",
       "      <th>Longitude</th>\n",
       "    </tr>\n",
       "  </thead>\n",
       "  <tbody>\n",
       "    <tr>\n",
       "      <th>0</th>\n",
       "      <td>M3A</td>\n",
       "      <td>North York</td>\n",
       "      <td>Parkwoods</td>\n",
       "      <td>43.806686</td>\n",
       "      <td>-79.194353</td>\n",
       "    </tr>\n",
       "    <tr>\n",
       "      <th>1</th>\n",
       "      <td>M4A</td>\n",
       "      <td>North York</td>\n",
       "      <td>Victoria Village</td>\n",
       "      <td>43.784535</td>\n",
       "      <td>-79.160497</td>\n",
       "    </tr>\n",
       "    <tr>\n",
       "      <th>2</th>\n",
       "      <td>M5A</td>\n",
       "      <td>Downtown Toronto</td>\n",
       "      <td>Regent Park, Harbourfront</td>\n",
       "      <td>43.763573</td>\n",
       "      <td>-79.188711</td>\n",
       "    </tr>\n",
       "    <tr>\n",
       "      <th>3</th>\n",
       "      <td>M6A</td>\n",
       "      <td>North York</td>\n",
       "      <td>Lawrence Manor, Lawrence Heights</td>\n",
       "      <td>43.770992</td>\n",
       "      <td>-79.216917</td>\n",
       "    </tr>\n",
       "    <tr>\n",
       "      <th>4</th>\n",
       "      <td>M7A</td>\n",
       "      <td>Downtown Toronto</td>\n",
       "      <td>Queen's Park, Ontario Provincial Government</td>\n",
       "      <td>43.773136</td>\n",
       "      <td>-79.239476</td>\n",
       "    </tr>\n",
       "  </tbody>\n",
       "</table>\n",
       "</div>"
      ],
      "text/plain": [
       "  Postal Code           Borough                                Neighbourhood  \\\n",
       "0         M3A        North York                                    Parkwoods   \n",
       "1         M4A        North York                             Victoria Village   \n",
       "2         M5A  Downtown Toronto                    Regent Park, Harbourfront   \n",
       "3         M6A        North York             Lawrence Manor, Lawrence Heights   \n",
       "4         M7A  Downtown Toronto  Queen's Park, Ontario Provincial Government   \n",
       "\n",
       "    Latitude  Longitude  \n",
       "0  43.806686 -79.194353  \n",
       "1  43.784535 -79.160497  \n",
       "2  43.763573 -79.188711  \n",
       "3  43.770992 -79.216917  \n",
       "4  43.773136 -79.239476  "
      ]
     },
     "execution_count": 10,
     "metadata": {},
     "output_type": "execute_result"
    }
   ],
   "source": [
    "latlangs = df_cor[['Latitude','Longitude']]\n",
    "df = pd.concat([df, latlangs], axis=1, sort=False)\n",
    "df.head()"
   ]
  },
  {
   "cell_type": "markdown",
   "metadata": {},
   "source": [
    "Let's explore only the boroughs containing Toronto for simplicity."
   ]
  },
  {
   "cell_type": "code",
   "execution_count": 11,
   "metadata": {},
   "outputs": [
    {
     "data": {
      "text/plain": [
       "array(['North York', 'Downtown Toronto', 'Etobicoke', 'Scarborough',\n",
       "       'East York', 'York', 'East Toronto', 'West Toronto',\n",
       "       'Central Toronto', 'Mississauga'], dtype=object)"
      ]
     },
     "execution_count": 11,
     "metadata": {},
     "output_type": "execute_result"
    }
   ],
   "source": [
    "df['Borough'].unique()"
   ]
  },
  {
   "cell_type": "code",
   "execution_count": 12,
   "metadata": {},
   "outputs": [],
   "source": [
    "df_west = df[df['Borough'] == 'West Toronto']\n",
    "df_east = df[df['Borough'] == 'East Toronto']\n",
    "df_central = df[df['Borough'] == 'Central Toronto']\n",
    "df_downtown = df[df['Borough'] == 'Downtown Toronto']"
   ]
  },
  {
   "cell_type": "code",
   "execution_count": 13,
   "metadata": {},
   "outputs": [],
   "source": [
    "df_tor = pd.concat([ df_west, df_east,df_central, df_downtown]).reset_index(drop=True)"
   ]
  },
  {
   "cell_type": "code",
   "execution_count": 14,
   "metadata": {},
   "outputs": [
    {
     "data": {
      "text/html": [
       "<div>\n",
       "<style scoped>\n",
       "    .dataframe tbody tr th:only-of-type {\n",
       "        vertical-align: middle;\n",
       "    }\n",
       "\n",
       "    .dataframe tbody tr th {\n",
       "        vertical-align: top;\n",
       "    }\n",
       "\n",
       "    .dataframe thead th {\n",
       "        text-align: right;\n",
       "    }\n",
       "</style>\n",
       "<table border=\"1\" class=\"dataframe\">\n",
       "  <thead>\n",
       "    <tr style=\"text-align: right;\">\n",
       "      <th></th>\n",
       "      <th>Postal Code</th>\n",
       "      <th>Borough</th>\n",
       "      <th>Neighbourhood</th>\n",
       "      <th>Latitude</th>\n",
       "      <th>Longitude</th>\n",
       "    </tr>\n",
       "  </thead>\n",
       "  <tbody>\n",
       "    <tr>\n",
       "      <th>0</th>\n",
       "      <td>M6H</td>\n",
       "      <td>West Toronto</td>\n",
       "      <td>Dufferin, Dovercourt Village</td>\n",
       "      <td>43.739015</td>\n",
       "      <td>-79.506944</td>\n",
       "    </tr>\n",
       "    <tr>\n",
       "      <th>1</th>\n",
       "      <td>M6J</td>\n",
       "      <td>West Toronto</td>\n",
       "      <td>Little Portugal, Trinity</td>\n",
       "      <td>43.676357</td>\n",
       "      <td>-79.293031</td>\n",
       "    </tr>\n",
       "    <tr>\n",
       "      <th>2</th>\n",
       "      <td>M6K</td>\n",
       "      <td>West Toronto</td>\n",
       "      <td>Brockton, Parkdale Village, Exhibition Place</td>\n",
       "      <td>43.659526</td>\n",
       "      <td>-79.340923</td>\n",
       "    </tr>\n",
       "    <tr>\n",
       "      <th>3</th>\n",
       "      <td>M6P</td>\n",
       "      <td>West Toronto</td>\n",
       "      <td>High Park, The Junction South</td>\n",
       "      <td>43.646435</td>\n",
       "      <td>-79.374846</td>\n",
       "    </tr>\n",
       "    <tr>\n",
       "      <th>4</th>\n",
       "      <td>M6R</td>\n",
       "      <td>West Toronto</td>\n",
       "      <td>Parkdale, Roncesvalles</td>\n",
       "      <td>43.669542</td>\n",
       "      <td>-79.422564</td>\n",
       "    </tr>\n",
       "  </tbody>\n",
       "</table>\n",
       "</div>"
      ],
      "text/plain": [
       "  Postal Code       Borough                                 Neighbourhood  \\\n",
       "0         M6H  West Toronto                  Dufferin, Dovercourt Village   \n",
       "1         M6J  West Toronto                      Little Portugal, Trinity   \n",
       "2         M6K  West Toronto  Brockton, Parkdale Village, Exhibition Place   \n",
       "3         M6P  West Toronto                 High Park, The Junction South   \n",
       "4         M6R  West Toronto                        Parkdale, Roncesvalles   \n",
       "\n",
       "    Latitude  Longitude  \n",
       "0  43.739015 -79.506944  \n",
       "1  43.676357 -79.293031  \n",
       "2  43.659526 -79.340923  \n",
       "3  43.646435 -79.374846  \n",
       "4  43.669542 -79.422564  "
      ]
     },
     "execution_count": 14,
     "metadata": {},
     "output_type": "execute_result"
    }
   ],
   "source": [
    "df_tor.head()"
   ]
  },
  {
   "cell_type": "markdown",
   "metadata": {},
   "source": [
    "Save the DataFrame into a `csv` file for further use"
   ]
  },
  {
   "cell_type": "code",
   "execution_count": 15,
   "metadata": {},
   "outputs": [],
   "source": [
    "df_tor.to_csv('Toronto_Neighbourhood.csv')"
   ]
  },
  {
   "cell_type": "markdown",
   "metadata": {},
   "source": [
    "Create a map of toronto with neighborhoods superimposed on top."
   ]
  },
  {
   "cell_type": "code",
   "execution_count": 16,
   "metadata": {},
   "outputs": [
    {
     "name": "stdout",
     "output_type": "stream",
     "text": [
      "The geograpical coordinate of Toronto are 43.693781, -79.428191.\n"
     ]
    }
   ],
   "source": [
    "latitude = 43.693781\n",
    "longitude = -79.428191\n",
    "print('The geograpical coordinate of Toronto are {}, {}.'.format(latitude, longitude))"
   ]
  },
  {
   "cell_type": "code",
   "execution_count": 17,
   "metadata": {},
   "outputs": [
    {
     "data": {
      "text/html": [
       "<div style=\"width:100%;\"><div style=\"position:relative;width:100%;height:0;padding-bottom:60%;\"><iframe src=\"about:blank\" style=\"position:absolute;width:100%;height:100%;left:0;top:0;border:none !important;\" data-html=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 onload=\"this.contentDocument.open();this.contentDocument.write(atob(this.getAttribute('data-html')));this.contentDocument.close();\" allowfullscreen webkitallowfullscreen mozallowfullscreen></iframe></div></div>"
      ],
      "text/plain": [
       "<folium.folium.Map at 0x25ba80fc288>"
      ]
     },
     "execution_count": 17,
     "metadata": {},
     "output_type": "execute_result"
    }
   ],
   "source": [
    "# create map of Toronto using latitude and longitude values\n",
    "map_toronto = folium.Map(location=[latitude, longitude], zoom_start=11)\n",
    "\n",
    "# add markers to map\n",
    "for lat, lng, borough, neighborhood in zip(df_tor['Latitude'], df_tor['Longitude'], df_tor['Borough'], df_tor['Neighbourhood']):\n",
    "    label = '{}, {}'.format(neighborhood, borough)\n",
    "    label = folium.Popup(label, parse_html=True)\n",
    "    folium.CircleMarker(\n",
    "        [lat, lng],\n",
    "        radius=5,\n",
    "        popup=label,\n",
    "        color='blue',\n",
    "        fill=True,\n",
    "        fill_color='#3186cc',\n",
    "        fill_opacity=0.7,\n",
    "        parse_html=False).add_to(map_toronto)  \n",
    "    \n",
    "map_toronto\n",
    "\n"
   ]
  },
  {
   "cell_type": "markdown",
   "metadata": {},
   "source": [
    "Further explorations are in the next notebook.\n",
    "\n",
    "## Thanks for Reading :)"
   ]
  }
 ],
 "metadata": {
  "kernelspec": {
   "display_name": "Python 3",
   "language": "python",
   "name": "python3"
  },
  "language_info": {
   "codemirror_mode": {
    "name": "ipython",
    "version": 3
   },
   "file_extension": ".py",
   "mimetype": "text/x-python",
   "name": "python",
   "nbconvert_exporter": "python",
   "pygments_lexer": "ipython3",
   "version": "3.7.6"
  }
 },
 "nbformat": 4,
 "nbformat_minor": 4
}
